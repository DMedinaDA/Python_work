{
 "cells": [
  {
   "cell_type": "markdown",
   "id": "aaa1a823-92ed-455c-97d7-f0371fc8b661",
   "metadata": {},
   "source": [
    "           Unit of Measurement Converter Project"
   ]
  },
  {
   "cell_type": "code",
   "execution_count": 5,
   "id": "fdceced8-1e5b-499a-9eda-38e959c1ae20",
   "metadata": {},
   "outputs": [
    {
     "name": "stdin",
     "output_type": "stream",
     "text": [
      "Enter Starting Unit of Measurement(inches, feet, yards):  inches\n",
      "Enter Starting Unit of Measurement to Convert to (inches, feet, yards):  feet\n",
      "Enter Starting Measurement in Inches:  24\n",
      "Enter Starting Measurement in Feet:  3\n",
      "Enter Starting Measurement in Yards:  1\n"
     ]
    }
   ],
   "source": [
    "\n",
    "\n",
    "convert_from = input(\"Enter Starting Unit of Measurement(inches, feet, yards): \") \n",
    "\n",
    "conver_to = input(\"Enter Starting Unit of Measurement to Convert to (inches, feet, yards): \") \n",
    "\n",
    "number_of_inches = input(\"Enter Starting Measurement in Inches: \")\n",
    "\n",
    "number_of_feet = input(\"Enter Starting Measurement in Feet: \") \n",
    "\n",
    "number_of_yards = input(\"Enter Starting Measurement in Yards: \")\n",
    "\n",
    "\n"
   ]
  },
  {
   "cell_type": "markdown",
   "id": "89395822-fa73-4735-b02e-12c4c6cbdba6",
   "metadata": {},
   "source": [
    " With this all here, we can now dive into the logic behind it. "
   ]
  },
  {
   "cell_type": "code",
   "execution_count": null,
   "id": "3dd6ccca-798f-47b4-bef5-06a4d16e0f3a",
   "metadata": {},
   "outputs": [],
   "source": [
    "\n",
    "\n",
    "convert_from = input(\"Enter Starting Unit of Measurement(inches, feet, yards): \") \n",
    "\n",
    "conver_to = input(\"Enter Starting Unit of Measurement to Convert to (inches, feet, yards): \") \n",
    "\n",
    "number_of_inches = input(\"Enter Starting Measurement in Inches: \")\n",
    "\n",
    "number_of_feet = input(\"Enter Starting Measurement in Feet: \") \n",
    "\n",
    "number_of_yards = input(\"Enter Starting Measurement in Yards: \")\n",
    "\n",
    "\n"
   ]
  },
  {
   "cell_type": "code",
   "execution_count": 29,
   "id": "3bd8f044-736c-4539-b404-df69acc874c0",
   "metadata": {},
   "outputs": [
    {
     "name": "stdin",
     "output_type": "stream",
     "text": [
      "Enter Starting Unit of Measurement(inches, feet, yards):  yds\n",
      "Enter Starting Unit of Measurement to Convert to (inches, feet, yards):  in\n"
     ]
    }
   ],
   "source": [
    "convert_from = input(\"Enter Starting Unit of Measurement(inches, feet, yards): \") \n",
    "\n",
    "convert_to = input(\"Enter Starting Unit of Measurement to Convert to (inches, feet, yards): \") \n",
    "\n",
    "if convert_from == \"inches\":\n",
    "    number_of_inches = int(input(\"Enter Starting Measurement in Inches: \"))\n",
    "    if convert_to == 'feet':\n",
    "       print(number_of_inches / 12) \n",
    "    elif convert_to == 'yards':\n",
    "       print(number_of_inches / 36)\n",
    "    else: \n",
    "       print(\"Input was incorrect\")\n",
    "elif convert_from == \"feet\":\n",
    "    number_of_feet = int(input(\"Enter Starting Measurement in Feet: \"))\n",
    "    if convert_to == 'inches' :\n",
    "        print(number_of_feet * 12)\n",
    "    elif convert_to == 'yards':\n",
    "        print(number_of_feet / 3)\n",
    "    else:\n",
    "        print(\"Input was incorrect\")\n",
    "elif convert_from == \"yards\":\n",
    "    number_of_yards = int(input(\"Enter Starting Measurement in Yards: \"))\n",
    "    if convert_to =='inches' :\n",
    "        print(number_of_yards * 36)\n",
    "    elif convert_to == 'feet':\n",
    "        print(number_of_yards * 3)\n",
    "    else:\n",
    "        print(\"Input was incorrect\")\n"
   ]
  },
  {
   "cell_type": "code",
   "execution_count": 13,
   "id": "79b2d072-9cb6-4bfa-a88b-ece195efc556",
   "metadata": {},
   "outputs": [
    {
     "name": "stdin",
     "output_type": "stream",
     "text": [
      "Please Enter Starting Unit of Measurement(inches, feet, yards):  yard\n",
      "Please Enter Starting Unit of Measurement to Convert to (inches, feet, yards):  feet\n",
      "Enter Starting Measurement in Yards:  3\n"
     ]
    },
    {
     "name": "stdout",
     "output_type": "stream",
     "text": [
      "Input was incorrect\n"
     ]
    }
   ],
   "source": [
    "convert_from = input(\"Please Enter Starting Unit of Measurement(inches, feet, yards): \") \n",
    "\n",
    "convert_to = input(\"Please Enter Starting Unit of Measurement to Convert to (inches, feet, yards): \") \n",
    "\n",
    "\n",
    "\n",
    "if convert_from.lower() in [\"inches\",\"in\",\"inch\"]:\n",
    "    number_of_inches = int(input(\"Enter Starting Measurement in Inches: \"))\n",
    "    if convert_to.lower () in [\"feet\",\"foot\",\"ft\"]:\n",
    "        print(print(\"Result: \" + str(number_of_inches) + \" Inches = \" + str(round(number_of_inches / 12)) + \" Feet\"))\n",
    "    elif convert_to.lower () in [\"yards\",\"yard\", \"yds\", \"yd\"]:\n",
    "        print(print(\"Result: \" + str(number_of_inches) + \" Inches = \" + str(round(number_of_inches / 36)) + \" Yards\"))\n",
    "    else: \n",
    "        print(\"Input was incorrect\")\n",
    "elif convert_from.lower () in [\"feet\",\"foot\",\"ft\"]:\n",
    "    number_of_feet = int(input(\"Enter Starting Measurement in Feet: \"))\n",
    "    if convert_to.lower() in [\"inches\",\"in\",\"inch\"]:\n",
    "        print(print(\"Result: \" + str(number_of_feet) + \" Feet = \" + str(round(number_of_feet * 12)) + \" Inches\"))\n",
    "    elif convert_to.lower () in [\"yards\",\"yard\", \"yds\", \"yd\"]:\n",
    "        print(print(\"Result: \" + str(number_of_feet) + \" Feet = \" + str(round(number_of_feet / 3)) + \" Yards\"))\n",
    "    else:\n",
    "        print(\"Input was incorrect\")\n",
    "elif convert_from.lower () in [\"yards\",\"yard\", \"yds\", \"yd\"]:\n",
    "    number_of_yards = int(input(\"Enter Starting Measurement in Yards: \"))\n",
    "    if convert_to.lower() in [\"inches\",\"in\",\"inch\"]:\n",
    "        print(print(\"Result: \" + str(number_of_yards) + \" Yards = \" + str(round(number_of_yards * 36)) + \" Inches\"))\n",
    "    elif convert_to.lower () in [\"feet\",\"foot\",\"ft\"]:\n",
    "        print(print(\"Result: \" + str(number_of_yards) + \" Yards = \" + str(round(number_of_yards * 3)) + \" Feet\"))\n",
    "    else:\n",
    "        print(\"Input was incorrect\")\n",
    "\n",
    "else:\n",
    "    print(\"Please Enter either Inches, Feet, or Yards.\")"
   ]
  },
  {
   "cell_type": "code",
   "execution_count": 37,
   "id": "e30f40e9-3ead-4dda-9d48-4e18bc7076a3",
   "metadata": {},
   "outputs": [
    {
     "name": "stdin",
     "output_type": "stream",
     "text": [
      "Please Enter Starting Unit of Measurement(inches, feet, yards):  feet\n",
      "Please Enter Starting Unit of Measurement to Convert to (inches, feet, yards):  yards\n",
      "Enter Starting Measurement in Feet:  5\n"
     ]
    },
    {
     "name": "stdout",
     "output_type": "stream",
     "text": [
      "Result: 5 Feet = 2 Yards\n",
      "None\n"
     ]
    }
   ],
   "source": [
    "convert_from = input(\"Please Enter Starting Unit of Measurement(inches, feet, yards): \") \n",
    "\n",
    "convert_to = input(\"Please Enter Starting Unit of Measurement to Convert to (inches, feet, yards): \") \n",
    "\n",
    "\n",
    "\n",
    "if convert_from.lower() in [\"inches\",\"in\",\"inch\"]:\n",
    "    number_of_inches = int(input(\"Enter Starting Measurement in Inches: \"))\n",
    "    if convert_to.lower () in [\"feet\",\"foot\",\"ft\"]:\n",
    "        print(print(\"Result: \" + str(number_of_inches) + \" Inches = \" + str(round(number_of_inches / 12)) + \" Feet\"))\n",
    "    elif convert_to.lower () in [\"yards\",\"yard\", \"yds\", \"yd\"]:\n",
    "        print(print(\"Result: \" + str(number_of_inches) + \" Inches = \" + str(round(number_of_inches / 36)) + \" Yards\"))\n",
    "    else: \n",
    "        print(\"Input was incorrect\")\n",
    "elif convert_from.lower () in [\"feet\",\"foot\",\"ft\"]:\n",
    "    number_of_feet = int(input(\"Enter Starting Measurement in Feet: \"))\n",
    "    if convert_to.lower() in [\"inches\",\"in\",\"inch\"]:\n",
    "        print(print(\"Result: \" + str(number_of_feet) + \" Feet = \" + str(round(number_of_feet * 12)) + \" Inches\"))\n",
    "    elif convert_to.lower () in [\"yards\",\"yard\", \"yds\", \"yd\"]:\n",
    "        print(print(\"Result: \" + str(number_of_feet) + \" Feet = \" + str(round(number_of_feet / 3)) + \" Yards\"))\n",
    "    else:\n",
    "        print(\"Input was incorrect\")\n",
    "elif convert_from.lower() in [\"yards\",\"yard\", \"yds\", \"yd\"]:\n",
    "    number_of_yards = float(input(\"Enter Starting Measurement in Yards: \"))\n",
    "    if convert_to.lower() in [\"inches\",\"in\",\"inch\"]:\n",
    "        print(\"Result: \" + str(number_of_yards) + \" Yards = \" + str(round(number_of_yards * 36, 2)) + \" Inches\")\n",
    "    elif convert_to.lower() in [\"feet\",\"foot\",\"ft\"]:  \n",
    "        print(\"Result: \" + str(number_of_yards) + \" Yards = \" + str(round(number_of_yards * 3, 2)) + \" Feet\")\n",
    "    else:\n",
    "        print(\"Input was incorrect\")\n",
    "else:\n",
    "    print(\"Please Enter either Inches, Feet, or Yards.\")"
   ]
  },
  {
   "cell_type": "code",
   "execution_count": null,
   "id": "5c670621-f5e4-449f-912e-59328127e171",
   "metadata": {},
   "outputs": [],
   "source": []
  },
  {
   "cell_type": "code",
   "execution_count": null,
   "id": "a551cef1-48af-4a4d-9e31-a552ba32892d",
   "metadata": {},
   "outputs": [],
   "source": []
  },
  {
   "cell_type": "markdown",
   "id": "955de046-2d5d-43d8-b5aa-4ac82af8e3ef",
   "metadata": {},
   "source": [
    "                   Initial Code (First Version)\n",
    "                   \n",
    " Basic Functionality: The code successfully performs unit conversions between inches, feet, and yards.\n",
    " Fixed the yards to feet conversion by correcting the condition check from 'convert_from' to 'convert_to'\n",
    "\n",
    "Case-Insensitive Input: Using .lower() ensures inputs are case-insensitive.\n",
    "\n",
    "Error Handling: Provides messages for invalid inputs, preventing crashes.\n",
    "\n",
    " Precision Loss:\n",
    " Uses int() for input and rounding, which removes decimal precision. This is problematic for conversions requiring fractional values (e.g., yards to feet).\n",
    " Incorrect Logic in Yards to Feet Conversion:\n",
    " In the yards-to-feet conversion block, the condition mistakenly checks convert_from instead of convert_to.\n",
    "\n",
    "#Hardcoded Rounding:\n",
    " Rounding without specifying decimal places leads to loss of precision in results."
   ]
  },
  {
   "cell_type": "markdown",
   "id": "9d127abb-280e-41c6-90cc-05a14d8953aa",
   "metadata": {},
   "source": [
    "                     Final Code (Second Version) \n",
    "  Improvements:\n",
    " Added Float Support for Input:\n",
    " Changed int() to float() for input values, allowing fractional measurements (e.g., 1.5 yards).\n",
    " Example change: number_of_yards = float(input(...)).\n",
    "\n",
    "  Improved Precision with Decimal Places:\n",
    " Used round(..., 2) to retain up to two decimal places in results.\n",
    " Example change: round(number_of_yards * 3, 2) ensures precise calculations.\n",
    "\n",
    " Fixed Yards to Feet Conversion Logic:\n",
    " Corrected the condition to check convert_to instead of convert_from.\n",
    " Example fix: if convert_to.lower() in [\"feet\", \"foot\", \"ft\"]: properly handles this conversion.\n",
    "\n",
    " Consistent Error Handling:\n",
    " Maintained clear error messages for invalid inputs but improved logic consistency.\n",
    " Added support for fractional measurements using float(), making the converter more versatile.\n",
    "\n",
    "\n"
   ]
  },
  {
   "cell_type": "code",
   "execution_count": null,
   "id": "15456676-2978-4c90-a53e-fd822b10fb20",
   "metadata": {},
   "outputs": [],
   "source": []
  },
  {
   "cell_type": "code",
   "execution_count": null,
   "id": "6bc62755-5f47-4313-9b9d-3d30fbc49989",
   "metadata": {},
   "outputs": [],
   "source": []
  },
  {
   "cell_type": "code",
   "execution_count": null,
   "id": "4d21deb9-8f16-4ba0-9147-e0512e86acac",
   "metadata": {},
   "outputs": [],
   "source": []
  }
 ],
 "metadata": {
  "kernelspec": {
   "display_name": "Python 3 (ipykernel)",
   "language": "python",
   "name": "python3"
  },
  "language_info": {
   "codemirror_mode": {
    "name": "ipython",
    "version": 3
   },
   "file_extension": ".py",
   "mimetype": "text/x-python",
   "name": "python",
   "nbconvert_exporter": "python",
   "pygments_lexer": "ipython3",
   "version": "3.12.4"
  }
 },
 "nbformat": 4,
 "nbformat_minor": 5
}
